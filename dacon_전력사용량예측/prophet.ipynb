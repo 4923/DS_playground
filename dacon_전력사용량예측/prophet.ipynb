{
 "cells": [
  {
   "cell_type": "code",
   "execution_count": null,
   "metadata": {},
   "outputs": [],
   "source": [
    "# ------- this challenge is for testing prophet : KPMG ------- # \n",
    "\n",
    "# basic tools\n",
    "import os\n",
    "import glob\n",
    "import math\n",
    "import re\n",
    "\n",
    "# basic tools for ML\n",
    "import numpy as np\n",
    "import pandas as pd\n",
    "import matplotlib.pyplot as plt\n",
    "\n",
    "# Deep Learning\n",
    "import tensorflow as tf\n",
    "\n",
    "\n",
    "# import Model\n",
    "# if you have \"Importing plotly failed. Interactive plots will not work.\" ERROR,\n",
    "# it is from prophet: INSTALL `pip install plotly` \n",
    "from prophet import Prophet\n",
    "from sklearn.model_selection import GridSearchCV    # parameter\n",
    "from sklearn.model_selection import train_test_split # train, test set"
   ]
  }
 ],
 "metadata": {
  "interpreter": {
   "hash": "ff3e2cd991b985bf04ba87552588638018f73b6d9e2f02b4d90c418acb27535f"
  },
  "kernelspec": {
   "display_name": "Python 3.8.12 ('ds-py38')",
   "language": "python",
   "name": "python3"
  },
  "language_info": {
   "name": "python",
   "version": "3.8.12"
  },
  "orig_nbformat": 4
 },
 "nbformat": 4,
 "nbformat_minor": 2
}
