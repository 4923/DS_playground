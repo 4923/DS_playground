{
 "cells": [
  {
   "cell_type": "code",
   "execution_count": null,
   "metadata": {},
   "outputs": [],
   "source": [
    "# ------- this challenge is for practice ML : KPMG ------- # \n",
    "\n",
    "# basic tools\n",
    "import os\n",
    "import glob\n",
    "import math\n",
    "import re\n",
    "\n",
    "# basic tools for ML\n",
    "import numpy as np\n",
    "import pandas as pd\n",
    "import matplotlib.pyplot as plt\n",
    "\n",
    "# Deep Learning\n",
    "import tensorflow as tf\n",
    "\n",
    "\n",
    "# import Model"
   ]
  }
 ],
 "metadata": {
  "language_info": {
   "name": "python"
  },
  "orig_nbformat": 4
 },
 "nbformat": 4,
 "nbformat_minor": 2
}
