{
 "cells": [
  {
   "cell_type": "markdown",
   "metadata": {},
   "source": [
    "## toBigs 팀 노트북 참고"
   ]
  },
  {
   "cell_type": "markdown",
   "metadata": {},
   "source": [
    "`psutil` -> 우리는 사용하지 않을 것이므로 해당 셀 무시\n",
    "- `pip install psutil` 로 설치\n",
    "- 컴퓨터 리소스 확인 및 정보검색용 크로스 플랫폼 라이브러리\n",
    "- 크로스 플랫폼?\n",
    "    - Java: JVM이라는 가상 공간에서 컴파일 되므로 각 os에 맞는 컴파일러로 컴파일할 필요가 없음\n",
    "    - 게임, 리액트네이티브, 일렉트론 등이 크로스플랫폼 지원 도구다."
   ]
  },
  {
   "cell_type": "markdown",
   "metadata": {},
   "source": [
    "### 기상청 데이터 전처리"
   ]
  },
  {
   "cell_type": "code",
   "execution_count": 1,
   "metadata": {},
   "outputs": [],
   "source": [
    "# load library\n",
    "\n",
    "# 필수\n",
    "import pandas as pd\n",
    "import numpy as np\n",
    "import matplotlib.pyplot as plt\n",
    "import seaborn as sns\n",
    "import warnings\n",
    "\n",
    "# 선택\n",
    "from tqdm import tqdm   # 진행상황 표시 바, 아랍어로 progress(taqadum)\n",
    "from glob import glob   # 데이터 로드 (폴더간 이동)\n",
    "from datetime import datetime, timedelta    # 아마도 시간측정에 사용\n",
    "\n",
    "# 기본\n",
    "import math\n",
    "import time\n",
    "import random"
   ]
  },
  {
   "cell_type": "code",
   "execution_count": 2,
   "metadata": {},
   "outputs": [],
   "source": [
    "# 시각화를 위한 설정\n",
    "# plt.style.use(\"fivethirtyeight\")  # (선택) css로 plt 시각화 결과 제어 / 선택지 있음 (plt)\n",
    "plt.rc('font', family='NanumBarunGothic')   # (기본) 한글 깨지지 않도록 폰트설ㅈ어\n",
    "plt.rc('axes', unicode_minus=False)     # (기본) 마이너스 부호 깨지지 않도록\n",
    "warnings.filterwarnings(action='ignore')    # 필요없는 경고메시지 무시"
   ]
  },
  {
   "cell_type": "code",
   "execution_count": 4,
   "metadata": {},
   "outputs": [],
   "source": [
    "# 경로 목록\n",
    "# baseline 참고: https://dacon.io/competitions/official/235720/codeshare/2488?page=1&dtype=recent\n",
    "\n",
    "root_path = \"./data/\"\n",
    "files = sorted(glob(root_path+'*.csv'))"
   ]
  },
  {
   "cell_type": "code",
   "execution_count": 5,
   "metadata": {},
   "outputs": [
    {
     "data": {
      "text/plain": [
       "['./data/dangjin_fcst_data.csv',\n",
       " './data/dangjin_obs_data.csv',\n",
       " './data/energy.csv',\n",
       " './data/sample_submission.csv',\n",
       " './data/site_info.csv',\n",
       " './data/ulsan_fcst_data.csv',\n",
       " './data/ulsan_obs_data.csv']"
      ]
     },
     "execution_count": 5,
     "metadata": {},
     "output_type": "execute_result"
    }
   ],
   "source": [
    "files"
   ]
  },
  {
   "cell_type": "code",
   "execution_count": 8,
   "metadata": {},
   "outputs": [],
   "source": [
    "dangjin_fcst = pd.read_csv(files[0])\n",
    "dangjin_obs = pd.read_csv(files[1])\n",
    "energy = pd.read_csv(files[2])\n",
    "sample_submission = pd.read_csv(files[3])\n",
    "site_info = pd.read_csv(files[4])\n",
    "ulsan_fcst = pd.read_csv(files[5])\n",
    "ulsan_obs = pd.read_csv(files[6])"
   ]
  },
  {
   "cell_type": "code",
   "execution_count": 11,
   "metadata": {},
   "outputs": [
    {
     "name": "stdout",
     "output_type": "stream",
     "text": [
      "<class 'pandas.core.frame.DataFrame'>\n",
      "RangeIndex: 162208 entries, 0 to 162207\n",
      "Data columns (total 7 columns):\n",
      " #   Column         Non-Null Count   Dtype  \n",
      "---  ------         --------------   -----  \n",
      " 0   Forecast time  162208 non-null  object \n",
      " 1   forecast       162208 non-null  float64\n",
      " 2   Temperature    162208 non-null  float64\n",
      " 3   Humidity       162208 non-null  float64\n",
      " 4   WindSpeed      162208 non-null  float64\n",
      " 5   WindDirection  162208 non-null  float64\n",
      " 6   Cloud          162208 non-null  float64\n",
      "dtypes: float64(6), object(1)\n",
      "memory usage: 8.7+ MB\n"
     ]
    }
   ],
   "source": [
    "dangjin_fcst.info()"
   ]
  },
  {
   "cell_type": "code",
   "execution_count": 12,
   "metadata": {},
   "outputs": [
    {
     "data": {
      "text/html": [
       "<div>\n",
       "<style scoped>\n",
       "    .dataframe tbody tr th:only-of-type {\n",
       "        vertical-align: middle;\n",
       "    }\n",
       "\n",
       "    .dataframe tbody tr th {\n",
       "        vertical-align: top;\n",
       "    }\n",
       "\n",
       "    .dataframe thead th {\n",
       "        text-align: right;\n",
       "    }\n",
       "</style>\n",
       "<table border=\"1\" class=\"dataframe\">\n",
       "  <thead>\n",
       "    <tr style=\"text-align: right;\">\n",
       "      <th></th>\n",
       "      <th>Forecast time</th>\n",
       "      <th>forecast</th>\n",
       "      <th>Temperature</th>\n",
       "      <th>Humidity</th>\n",
       "      <th>WindSpeed</th>\n",
       "      <th>WindDirection</th>\n",
       "      <th>Cloud</th>\n",
       "    </tr>\n",
       "  </thead>\n",
       "  <tbody>\n",
       "    <tr>\n",
       "      <th>0</th>\n",
       "      <td>2018-03-01 11:00:00</td>\n",
       "      <td>4.0</td>\n",
       "      <td>0.0</td>\n",
       "      <td>60.0</td>\n",
       "      <td>7.3</td>\n",
       "      <td>309.0</td>\n",
       "      <td>2.0</td>\n",
       "    </tr>\n",
       "    <tr>\n",
       "      <th>1</th>\n",
       "      <td>2018-03-01 11:00:00</td>\n",
       "      <td>7.0</td>\n",
       "      <td>-2.0</td>\n",
       "      <td>60.0</td>\n",
       "      <td>7.1</td>\n",
       "      <td>314.0</td>\n",
       "      <td>1.0</td>\n",
       "    </tr>\n",
       "    <tr>\n",
       "      <th>2</th>\n",
       "      <td>2018-03-01 11:00:00</td>\n",
       "      <td>10.0</td>\n",
       "      <td>-2.0</td>\n",
       "      <td>60.0</td>\n",
       "      <td>6.7</td>\n",
       "      <td>323.0</td>\n",
       "      <td>1.0</td>\n",
       "    </tr>\n",
       "    <tr>\n",
       "      <th>3</th>\n",
       "      <td>2018-03-01 11:00:00</td>\n",
       "      <td>13.0</td>\n",
       "      <td>-2.0</td>\n",
       "      <td>55.0</td>\n",
       "      <td>6.7</td>\n",
       "      <td>336.0</td>\n",
       "      <td>1.0</td>\n",
       "    </tr>\n",
       "    <tr>\n",
       "      <th>4</th>\n",
       "      <td>2018-03-01 11:00:00</td>\n",
       "      <td>16.0</td>\n",
       "      <td>-4.0</td>\n",
       "      <td>55.0</td>\n",
       "      <td>5.5</td>\n",
       "      <td>339.0</td>\n",
       "      <td>1.0</td>\n",
       "    </tr>\n",
       "  </tbody>\n",
       "</table>\n",
       "</div>"
      ],
      "text/plain": [
       "         Forecast time  forecast  Temperature  Humidity  WindSpeed  \\\n",
       "0  2018-03-01 11:00:00       4.0          0.0      60.0        7.3   \n",
       "1  2018-03-01 11:00:00       7.0         -2.0      60.0        7.1   \n",
       "2  2018-03-01 11:00:00      10.0         -2.0      60.0        6.7   \n",
       "3  2018-03-01 11:00:00      13.0         -2.0      55.0        6.7   \n",
       "4  2018-03-01 11:00:00      16.0         -4.0      55.0        5.5   \n",
       "\n",
       "   WindDirection  Cloud  \n",
       "0          309.0    2.0  \n",
       "1          314.0    1.0  \n",
       "2          323.0    1.0  \n",
       "3          336.0    1.0  \n",
       "4          339.0    1.0  "
      ]
     },
     "execution_count": 12,
     "metadata": {},
     "output_type": "execute_result"
    }
   ],
   "source": [
    "dangjin_fcst.head()"
   ]
  },
  {
   "cell_type": "code",
   "execution_count": null,
   "metadata": {},
   "outputs": [],
   "source": []
  }
 ],
 "metadata": {
  "interpreter": {
   "hash": "0405c18eb39f2841148f31fdc1c618b7f5c637e019b8c615b8795481fcf2971b"
  },
  "kernelspec": {
   "display_name": "Python 3.9.7 64-bit ('nlp_py39': conda)",
   "language": "python",
   "name": "python3"
  },
  "language_info": {
   "codemirror_mode": {
    "name": "ipython",
    "version": 3
   },
   "file_extension": ".py",
   "mimetype": "text/x-python",
   "name": "python",
   "nbconvert_exporter": "python",
   "pygments_lexer": "ipython3",
   "version": "3.9.7"
  },
  "orig_nbformat": 4
 },
 "nbformat": 4,
 "nbformat_minor": 2
}
